{
 "cells": [
  {
   "cell_type": "code",
   "execution_count": 1,
   "id": "f1034367",
   "metadata": {},
   "outputs": [],
   "source": [
    "# !pip install livelossplot"
   ]
  },
  {
   "cell_type": "code",
   "execution_count": 2,
   "id": "6686822f",
   "metadata": {},
   "outputs": [],
   "source": [
    "import pandas as pd\n",
    "from IPython.display import display\n",
    "pd.options.display.max_columns = None\n",
    "pd.options.display.max_rows = None\n",
    "import missingno as msno\n",
    "import numpy as np\n",
    "from datetime import datetime, timedelta\n",
    "import seaborn as sns\n",
    "import matplotlib.pyplot as plt\n",
    "from sklearn.preprocessing import MinMaxScaler\n",
    "from sklearn.model_selection import GridSearchCV, train_test_split, KFold\n",
    "from sklearn.tree import DecisionTreeClassifier\n",
    "from sklearn.metrics import roc_auc_score, make_scorer, precision_recall_curve\n",
    "from sklearn.metrics import confusion_matrix, recall_score, precision_score\n",
    "from sklearn.multioutput import MultiOutputClassifier\n",
    "from pathlib import Path\n",
    "from livelossplot.tf_keras import PlotLossesCallback\n",
    "import tensorflow as tf\n",
    "from sklearn.model_selection import RepeatedKFold\n",
    "from sklearn.metrics import accuracy_score\n",
    "from keras.models import load_model"
   ]
  },
  {
   "cell_type": "code",
   "execution_count": 3,
   "id": "9bef5f56",
   "metadata": {},
   "outputs": [],
   "source": [
    "df = pd.read_csv('train.csv')"
   ]
  },
  {
   "cell_type": "code",
   "execution_count": 4,
   "id": "849eb99e",
   "metadata": {},
   "outputs": [],
   "source": [
    "df = df[~df['ID'].isin(['54-102-244-02', '54-601-015-02', '54-602-038-01'])]\n",
    "df = df[~df['ID'].isin(['54-102-340-01', '54-701-024-02', '54-001-079-01'])]\n",
    "df = df[~df['ID'].isin(['54-102-238-02', '54-701-032-01'])]\n",
    "df = df[df['ID'] != '54-701-009-01']"
   ]
  },
  {
   "cell_type": "code",
   "execution_count": 5,
   "id": "d1d317ff",
   "metadata": {},
   "outputs": [],
   "source": [
    "test_df = pd.read_csv('test_dataset_test.csv')"
   ]
  },
  {
   "cell_type": "code",
   "execution_count": 6,
   "id": "b3a6ed28",
   "metadata": {},
   "outputs": [],
   "source": [
    "df = df.drop(['ID_y'], axis = 1)\n",
    "df = df.set_index('ID')\n",
    "test_df = test_df.set_index('ID')"
   ]
  },
  {
   "cell_type": "code",
   "execution_count": 7,
   "id": "53453c30",
   "metadata": {},
   "outputs": [],
   "source": [
    "test_df.loc[(test_df['Национальность'] == 'Удмурты') | (test_df['Национальность'] == 'Лезгины'),\\\n",
    "            'Национальность'] = 'Другие национальности'\n",
    "df.loc[~df['Национальность'].isin(list(test_df['Национальность'].unique())),\\\n",
    "            'Национальность'] = 'Другие национальности'\n",
    "test_df.loc[(test_df['Религия'] == 'Другое') | (test_df['Религия'] == 'Индуизм'),\\\n",
    "            'Религия'] = 'Нет'\n",
    "test_df.loc[(test_df['Статус Курения'] == 'Никогда не курил'),\\\n",
    "            'Статус Курения'] = 'Никогда не курил(а)'"
   ]
  },
  {
   "cell_type": "code",
   "execution_count": 8,
   "id": "4ad0ddf1",
   "metadata": {},
   "outputs": [],
   "source": [
    "df[['Время засыпания', 'Время пробуждения']] = df[['Время засыпания', 'Время пробуждения']].astype('datetime64')\n",
    "test_df[['Время засыпания', 'Время пробуждения']] = test_df[['Время засыпания', 'Время пробуждения']].astype('datetime64')\n",
    "df[['Время засыпания', 'Время пробуждения']].dtypes, test_df[['Время засыпания', 'Время пробуждения']].dtypes\n",
    "df['Время сна'] = df['Время пробуждения'] - df['Время засыпания']\n",
    "test_df['Время сна'] = test_df['Время пробуждения'] - test_df['Время засыпания']"
   ]
  },
  {
   "cell_type": "code",
   "execution_count": 9,
   "id": "50723fe1",
   "metadata": {},
   "outputs": [],
   "source": [
    "def sleep_time(x):\n",
    "    x = int(x.total_seconds()) // 3600\n",
    "    if x < 0:\n",
    "        x += 24\n",
    "    return x\n",
    "df['Время сна'] = df['Время сна'].apply(lambda x: sleep_time(x))\n",
    "test_df['Время сна'] = test_df['Время сна'].apply(lambda x: sleep_time(x))"
   ]
  },
  {
   "cell_type": "code",
   "execution_count": 10,
   "id": "607d9253",
   "metadata": {},
   "outputs": [],
   "source": [
    "df = df[df['Время сна'] != 19]"
   ]
  },
  {
   "cell_type": "code",
   "execution_count": 11,
   "id": "9dd71bc7",
   "metadata": {},
   "outputs": [],
   "source": [
    "df = df.fillna(0)\n",
    "df[['Возраст курения', 'Сигарет в день', 'Возраст алког']] =\\\n",
    "df[['Возраст курения', 'Сигарет в день', 'Возраст алког']].astype('int64')\n",
    "test_df = test_df.fillna(0)\n",
    "test_df[['Возраст курения', 'Сигарет в день', 'Возраст алког']] =\\\n",
    "test_df[['Возраст курения', 'Сигарет в день', 'Возраст алког']].astype('int64')"
   ]
  },
  {
   "cell_type": "code",
   "execution_count": 12,
   "id": "82bdca76",
   "metadata": {},
   "outputs": [
    {
     "name": "stdout",
     "output_type": "stream",
     "text": [
      "В столбце \"Пол\":  Ж --> 0,  М --> 1.\n"
     ]
    }
   ],
   "source": [
    "print(f'В столбце \"Пол\":  ', end = '')\n",
    "cat_col = df['Пол'].astype('category')\n",
    "codes = cat_col.cat.codes\n",
    "cats = cat_col.cat.categories\n",
    "df.loc[:, 'Пол'] = codes\n",
    "print(f'{cats[0]} --> 0,  ', end = '')\n",
    "print(f'{cats[1]} --> 1.')  "
   ]
  },
  {
   "cell_type": "code",
   "execution_count": 13,
   "id": "d3b3eaa5",
   "metadata": {},
   "outputs": [
    {
     "name": "stdout",
     "output_type": "stream",
     "text": [
      "В столбце \"Пол\":  Ж --> 0,  М --> 1.\n"
     ]
    }
   ],
   "source": [
    "print(f'В столбце \"Пол\":  ', end = '')\n",
    "cat_col = test_df['Пол'].astype('category')\n",
    "codes = cat_col.cat.codes\n",
    "cats = cat_col.cat.categories\n",
    "test_df.loc[:, 'Пол'] = codes\n",
    "print(f'{cats[0]} --> 0,  ', end = '')\n",
    "print(f'{cats[1]} --> 1.')"
   ]
  },
  {
   "cell_type": "code",
   "execution_count": 14,
   "id": "c28baa52",
   "metadata": {},
   "outputs": [],
   "source": [
    "df = pd.get_dummies(df)\n",
    "test_df = pd.get_dummies(test_df)"
   ]
  },
  {
   "cell_type": "code",
   "execution_count": 15,
   "id": "4cfa9430",
   "metadata": {},
   "outputs": [],
   "source": [
    "df[['Время засыпания', 'Время пробуждения']] = df.loc[:, ['Время засыпания', 'Время пробуждения']].applymap(lambda x: int(x.hour))\n",
    "test_df[['Время засыпания', 'Время пробуждения']] = test_df.loc[:, ['Время засыпания', 'Время пробуждения']].applymap(lambda x: int(x.hour))"
   ]
  },
  {
   "cell_type": "code",
   "execution_count": 16,
   "id": "46f49b81",
   "metadata": {},
   "outputs": [],
   "source": [
    "corr_1 = df.corr(method='kendall')[['Артериальная гипертензия', 'ОНМК', 'Стенокардия, ИБС, инфаркт миокарда',\\\n",
    "                                  'Сердечная недостаточность', 'Прочие заболевания сердца']].rename(columns =\\\n",
    "                                    {'Артериальная гипертензия':'АГ1', 'ОНМК':'ОНМК1', 'Стенокардия, ИБС, инфаркт миокарда':\\\n",
    "                                    'СК1, ИБС1, ИМ1', 'Сердечная недостаточность':'СН1', 'Прочие заболевания сердца':\\\n",
    "                                    'ПЗС1'})\n",
    "corr_2 = df.corr(method='spearman')[['Артериальная гипертензия', 'ОНМК', 'Стенокардия, ИБС, инфаркт миокарда',\\\n",
    "                                  'Сердечная недостаточность', 'Прочие заболевания сердца']].rename(columns =\\\n",
    "                                    {'Артериальная гипертензия':'АГ2', 'ОНМК':'ОНМК2', 'Стенокардия, ИБС, инфаркт миокарда':\\\n",
    "                                    'СК2, ИБС2, ИМ2', 'Сердечная недостаточность':'СН2', 'Прочие заболевания сердца':\\\n",
    "                                    'ПЗС2'})\n",
    "corr_df = pd.concat([corr_1, corr_2], axis=1)"
   ]
  },
  {
   "cell_type": "code",
   "execution_count": 17,
   "id": "427c1ca0",
   "metadata": {},
   "outputs": [],
   "source": [
    "temp = corr_df.copy()\n",
    "min_corr = 0.0001\n",
    "corr_dict = dict()\n",
    "while len(temp) != 0:\n",
    "    temp_2 = temp\n",
    "    temp_2['summ'] = temp_2.applymap(lambda x: 1 if abs(x) <= min_corr else 0).sum(axis = 1)\n",
    "    temp = temp_2[temp_2['summ'] != 10]\n",
    "    temp_2 = temp_2[temp_2['summ'] == 10]\n",
    "    if len(temp_2) != 0:\n",
    "        corr_dict[tuple(temp_2.index)] = min_corr\n",
    "    min_corr += 0.0001"
   ]
  },
  {
   "cell_type": "code",
   "execution_count": 18,
   "id": "e1cf92e5",
   "metadata": {},
   "outputs": [],
   "source": [
    "df_2 = corr_df\n",
    "df_2['summ'] = corr_df.applymap(lambda x: 1 if abs(x) <= 0.1 else 0).sum(axis = 1)\n",
    "df_2_rows = df_2[df_2['summ'] != 10].index\n",
    "df_2 = df.loc[:, list(df_2_rows)]"
   ]
  },
  {
   "cell_type": "code",
   "execution_count": null,
   "id": "50eafcaf",
   "metadata": {},
   "outputs": [],
   "source": []
  },
  {
   "cell_type": "code",
   "execution_count": 19,
   "id": "1c978e71",
   "metadata": {},
   "outputs": [],
   "source": [
    "hypothesis_list = [df, df_2]"
   ]
  },
  {
   "cell_type": "code",
   "execution_count": 20,
   "id": "e2118a80",
   "metadata": {},
   "outputs": [],
   "source": [
    "data_list = [MinMaxScaler().fit_transform(hypothesis.drop(columns = ['Артериальная гипертензия', 'ОНМК',\\\n",
    "    'Стенокардия, ИБС, инфаркт миокарда', 'Сердечная недостаточность', 'Прочие заболевания сердца']).values)\\\n",
    "             for hypothesis in hypothesis_list]\n",
    "targets_list = [MinMaxScaler().fit_transform(hypothesis[['Артериальная гипертензия', 'ОНМК',\\\n",
    "    'Стенокардия, ИБС, инфаркт миокарда', 'Сердечная недостаточность', 'Прочие заболевания сердца']].values)\\\n",
    "             for hypothesis in hypothesis_list]"
   ]
  },
  {
   "cell_type": "code",
   "execution_count": 21,
   "id": "6fcca9b0",
   "metadata": {},
   "outputs": [],
   "source": [
    "path = Path(\"/home/michael/AIchampionship/best_model/\")\n",
    "path.mkdir(exist_ok=True)\n",
    "file_to_save = \"checkpoint_best\"  \n",
    "path_to_save = str(path / file_to_save)\n",
    "\n",
    "checkpoint = tf.keras.callbacks.ModelCheckpoint(path_to_save,\\\n",
    "            monitor='val_recall', verbose=1, save_best_only=True, step_per_epoch = 100, mode='max')"
   ]
  },
  {
   "cell_type": "code",
   "execution_count": 22,
   "id": "10734d97",
   "metadata": {},
   "outputs": [
    {
     "name": "stderr",
     "output_type": "stream",
     "text": [
      "2022-06-19 21:05:19.569948: I tensorflow/stream_executor/cuda/cuda_gpu_executor.cc:922] could not open file to read NUMA node: /sys/bus/pci/devices/0000:04:00.0/numa_node\n",
      "Your kernel may have been built without NUMA support.\n",
      "2022-06-19 21:05:19.602215: I tensorflow/stream_executor/cuda/cuda_gpu_executor.cc:922] could not open file to read NUMA node: /sys/bus/pci/devices/0000:04:00.0/numa_node\n",
      "Your kernel may have been built without NUMA support.\n",
      "2022-06-19 21:05:19.602590: I tensorflow/stream_executor/cuda/cuda_gpu_executor.cc:922] could not open file to read NUMA node: /sys/bus/pci/devices/0000:04:00.0/numa_node\n",
      "Your kernel may have been built without NUMA support.\n",
      "2022-06-19 21:05:19.603405: I tensorflow/core/platform/cpu_feature_guard.cc:151] This TensorFlow binary is optimized with oneAPI Deep Neural Network Library (oneDNN) to use the following CPU instructions in performance-critical operations:  AVX2 FMA\n",
      "To enable them in other operations, rebuild TensorFlow with the appropriate compiler flags.\n",
      "2022-06-19 21:05:19.604863: I tensorflow/stream_executor/cuda/cuda_gpu_executor.cc:922] could not open file to read NUMA node: /sys/bus/pci/devices/0000:04:00.0/numa_node\n",
      "Your kernel may have been built without NUMA support.\n",
      "2022-06-19 21:05:19.605208: I tensorflow/stream_executor/cuda/cuda_gpu_executor.cc:922] could not open file to read NUMA node: /sys/bus/pci/devices/0000:04:00.0/numa_node\n",
      "Your kernel may have been built without NUMA support.\n",
      "2022-06-19 21:05:19.605543: I tensorflow/stream_executor/cuda/cuda_gpu_executor.cc:922] could not open file to read NUMA node: /sys/bus/pci/devices/0000:04:00.0/numa_node\n",
      "Your kernel may have been built without NUMA support.\n",
      "2022-06-19 21:05:20.295384: I tensorflow/stream_executor/cuda/cuda_gpu_executor.cc:922] could not open file to read NUMA node: /sys/bus/pci/devices/0000:04:00.0/numa_node\n",
      "Your kernel may have been built without NUMA support.\n",
      "2022-06-19 21:05:20.295735: I tensorflow/stream_executor/cuda/cuda_gpu_executor.cc:922] could not open file to read NUMA node: /sys/bus/pci/devices/0000:04:00.0/numa_node\n",
      "Your kernel may have been built without NUMA support.\n",
      "2022-06-19 21:05:20.295748: I tensorflow/core/common_runtime/gpu/gpu_device.cc:1609] Could not identify NUMA node of platform GPU id 0, defaulting to 0.  Your kernel may not have been built with NUMA support.\n",
      "2022-06-19 21:05:20.296062: I tensorflow/stream_executor/cuda/cuda_gpu_executor.cc:922] could not open file to read NUMA node: /sys/bus/pci/devices/0000:04:00.0/numa_node\n",
      "Your kernel may have been built without NUMA support.\n",
      "2022-06-19 21:05:20.296115: I tensorflow/core/common_runtime/gpu/gpu_device.cc:1525] Created device /job:localhost/replica:0/task:0/device:GPU:0 with 5430 MB memory:  -> device: 0, name: NVIDIA GeForce RTX 3070, pci bus id: 0000:04:00.0, compute capability: 8.6\n"
     ]
    }
   ],
   "source": [
    "model = tf.keras.models.Sequential()\n",
    "model.add(tf.keras.layers.Dense(36, input_dim=73, kernel_initializer='he_uniform', activation='relu'))\n",
    "model.add(tf.keras.layers.Dense(20, activation='relu'))\n",
    "model.add(tf.keras.layers.Dense(10, activation='relu'))\n",
    "model.add(tf.keras.layers.Dense(5, activation='sigmoid'))\n",
    "model.compile(optimizer=tf.keras.optimizers.Adam(learning_rate=0.0005),\n",
    "              loss='binary_crossentropy',\n",
    "              metrics=[tf.keras.metrics.AUC(), tf.keras.metrics.Recall()])"
   ]
  },
  {
   "cell_type": "code",
   "execution_count": 23,
   "id": "38007f56",
   "metadata": {},
   "outputs": [
    {
     "name": "stdout",
     "output_type": "stream",
     "text": [
      "Model: \"sequential\"\n",
      "_________________________________________________________________\n",
      " Layer (type)                Output Shape              Param #   \n",
      "=================================================================\n",
      " dense (Dense)               (None, 36)                2664      \n",
      "                                                                 \n",
      " dense_1 (Dense)             (None, 20)                740       \n",
      "                                                                 \n",
      " dense_2 (Dense)             (None, 10)                210       \n",
      "                                                                 \n",
      " dense_3 (Dense)             (None, 5)                 55        \n",
      "                                                                 \n",
      "=================================================================\n",
      "Total params: 3,669\n",
      "Trainable params: 3,669\n",
      "Non-trainable params: 0\n",
      "_________________________________________________________________\n"
     ]
    }
   ],
   "source": [
    "model.summary()"
   ]
  },
  {
   "cell_type": "code",
   "execution_count": 24,
   "id": "6beab3c8",
   "metadata": {},
   "outputs": [],
   "source": [
    "df_NN = df.copy()"
   ]
  },
  {
   "cell_type": "code",
   "execution_count": null,
   "id": "3e6173e5",
   "metadata": {},
   "outputs": [],
   "source": [
    "df_NN_1 = df_NN[(df_NN['Артериальная гипертензия'] == 0) & (df_NN['Стенокардия, ИБС, инфаркт миокарда'] == 0)]\n",
    "df_NN_1.iloc[:, 23:28].to_numpy().sum(axis=0)"
   ]
  },
  {
   "cell_type": "code",
   "execution_count": null,
   "id": "fd5ca4f8",
   "metadata": {},
   "outputs": [],
   "source": [
    "df_NN_2 = df_NN[(df_NN['Артериальная гипертензия'] == 0) & (df_NN['Стенокардия, ИБС, инфаркт миокарда'] == 0) & (df_NN['Прочие заболевания сердца'] == 0)]\n",
    "df_NN_2.iloc[:, 23:28].to_numpy().sum(axis=0)"
   ]
  },
  {
   "cell_type": "code",
   "execution_count": null,
   "id": "e4e05d02",
   "metadata": {},
   "outputs": [],
   "source": [
    "df_NN_3 = df_NN[(df_NN['Артериальная гипертензия'] == 0) & (df_NN['Прочие заболевания сердца'] == 0)]\n",
    "df_NN_3.iloc[:, 23:28].to_numpy().sum(axis=0)"
   ]
  },
  {
   "cell_type": "code",
   "execution_count": null,
   "id": "a50c4338",
   "metadata": {},
   "outputs": [],
   "source": [
    "for i in range(40):\n",
    "    if i < 10:\n",
    "        df_NN = pd.concat([df_NN, df_NN_1])\n",
    "    elif i < 30:\n",
    "        df_NN = pd.concat([df_NN, df_NN_3])\n",
    "    else:\n",
    "        df_NN = pd.concat([df_NN, df_NN_2])"
   ]
  },
  {
   "cell_type": "code",
   "execution_count": null,
   "id": "f55362c4",
   "metadata": {},
   "outputs": [],
   "source": [
    "df_NN.iloc[:, 23:28].to_numpy().sum(axis=0)"
   ]
  },
  {
   "cell_type": "code",
   "execution_count": null,
   "id": "c21647a5",
   "metadata": {},
   "outputs": [],
   "source": []
  },
  {
   "cell_type": "code",
   "execution_count": null,
   "id": "896946b6",
   "metadata": {},
   "outputs": [],
   "source": [
    "df_NN = df_NN.sample(frac = 1)"
   ]
  },
  {
   "cell_type": "code",
   "execution_count": null,
   "id": "1eb997f5",
   "metadata": {},
   "outputs": [],
   "source": [
    "df_NN.shape"
   ]
  },
  {
   "cell_type": "code",
   "execution_count": 25,
   "id": "94300210",
   "metadata": {},
   "outputs": [],
   "source": [
    "X_NN = MinMaxScaler().fit_transform(df_NN.drop(columns = ['Артериальная гипертензия', 'ОНМК',\\\n",
    "    'Стенокардия, ИБС, инфаркт миокарда', 'Сердечная недостаточность', 'Прочие заболевания сердца']).values)\n",
    "y_NN = MinMaxScaler().fit_transform(df_NN[['Артериальная гипертензия', 'ОНМК',\\\n",
    "    'Стенокардия, ИБС, инфаркт миокарда', 'Сердечная недостаточность', 'Прочие заболевания сердца']].values)"
   ]
  },
  {
   "cell_type": "code",
   "execution_count": 26,
   "id": "2428a007",
   "metadata": {},
   "outputs": [],
   "source": [
    "X_train, X_test, y_train, y_test = train_test_split(X_NN, y_NN, \n",
    "                                                    train_size=0.75, \n",
    "                                                    random_state=17)"
   ]
  },
  {
   "cell_type": "code",
   "execution_count": null,
   "id": "197031eb",
   "metadata": {},
   "outputs": [],
   "source": [
    "EPOCHS = 100\n",
    "history = model.fit(\n",
    "    X_train, y_train,\n",
    "    epochs=EPOCHS,\n",
    "    validation_data=(X_test, y_test),\n",
    "    steps_per_epoch=200,\n",
    "    callbacks=[PlotLossesCallback(), checkpoint])"
   ]
  },
  {
   "cell_type": "code",
   "execution_count": null,
   "id": "554fe4c7",
   "metadata": {},
   "outputs": [],
   "source": [
    "accuracy_score(y_test, model.predict(X_test).round())"
   ]
  },
  {
   "cell_type": "code",
   "execution_count": null,
   "id": "54b3e7ae",
   "metadata": {},
   "outputs": [],
   "source": [
    "roc_auc_score(y_test, model.predict(X_test).round())"
   ]
  },
  {
   "cell_type": "code",
   "execution_count": null,
   "id": "50c63681",
   "metadata": {},
   "outputs": [],
   "source": [
    "recall_score(y_test, model.predict(X_test).round(), average = 'macro')"
   ]
  },
  {
   "cell_type": "code",
   "execution_count": null,
   "id": "904d1daf",
   "metadata": {},
   "outputs": [],
   "source": [
    "type(model.predict(X_test).round())"
   ]
  },
  {
   "cell_type": "code",
   "execution_count": null,
   "id": "9b5413af",
   "metadata": {},
   "outputs": [],
   "source": [
    "columns = ['Артериальная гипертензия', 'ОНМК',\\\n",
    "    'Стенокардия, ИБС, инфаркт миокарда', 'Сердечная недостаточность', 'Прочие заболевания сердца']\n",
    "target_df = pd.DataFrame(model.predict(X_test_NN).round(), columns = columns, index = test_df.index)"
   ]
  },
  {
   "cell_type": "code",
   "execution_count": null,
   "id": "4511befa",
   "metadata": {},
   "outputs": [],
   "source": [
    "X_test_NN = MinMaxScaler().fit_transform(test_df.values)"
   ]
  },
  {
   "cell_type": "code",
   "execution_count": null,
   "id": "1756624f",
   "metadata": {},
   "outputs": [],
   "source": [
    "test_df"
   ]
  },
  {
   "cell_type": "code",
   "execution_count": null,
   "id": "b55642dd",
   "metadata": {},
   "outputs": [],
   "source": [
    "target_df.reset_index(inplace = True)"
   ]
  },
  {
   "cell_type": "code",
   "execution_count": null,
   "id": "cbad0e51",
   "metadata": {},
   "outputs": [],
   "source": [
    "target_df.iloc[:, 1:] = target_df.iloc[:, 1:].astype('int64')"
   ]
  },
  {
   "cell_type": "code",
   "execution_count": null,
   "id": "c2a8fa59",
   "metadata": {},
   "outputs": [],
   "source": [
    "target_df"
   ]
  },
  {
   "cell_type": "code",
   "execution_count": null,
   "id": "ed3a6503",
   "metadata": {},
   "outputs": [],
   "source": [
    "target_df.to_csv('fourth_proba.csv', index=False)"
   ]
  },
  {
   "cell_type": "code",
   "execution_count": null,
   "id": "1dc8957b",
   "metadata": {},
   "outputs": [],
   "source": [
    "model = load_model('/home/michael/AIchampionship/best_model/checkpoint_best/')"
   ]
  },
  {
   "cell_type": "code",
   "execution_count": null,
   "id": "33e346c3",
   "metadata": {},
   "outputs": [],
   "source": [
    "model_1.predict(X_test_NN).round()"
   ]
  },
  {
   "cell_type": "code",
   "execution_count": null,
   "id": "27edfd0c",
   "metadata": {},
   "outputs": [],
   "source": []
  }
 ],
 "metadata": {
  "kernelspec": {
   "display_name": "Python 3 (ipykernel)",
   "language": "python",
   "name": "python3"
  },
  "language_info": {
   "codemirror_mode": {
    "name": "ipython",
    "version": 3
   },
   "file_extension": ".py",
   "mimetype": "text/x-python",
   "name": "python",
   "nbconvert_exporter": "python",
   "pygments_lexer": "ipython3",
   "version": "3.8.13"
  }
 },
 "nbformat": 4,
 "nbformat_minor": 5
}
